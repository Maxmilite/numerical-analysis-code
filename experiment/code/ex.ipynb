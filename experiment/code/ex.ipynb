{
 "cells": [
  {
   "cell_type": "code",
   "execution_count": 2,
   "metadata": {},
   "outputs": [
    {
     "name": "stderr",
     "output_type": "stream",
     "text": [
      "C:\\Users\\Maxmilite\\AppData\\Local\\Temp\\ipykernel_17108\\3589825282.py:3: MatplotlibDeprecationWarning: The seaborn styles shipped by Matplotlib are deprecated since 3.6, as they no longer correspond to the styles shipped by seaborn. However, they will remain available as 'seaborn-v0_8-<style>'. Alternatively, directly use the seaborn API instead.\n",
      "  plt.style.use('seaborn-whitegrid')\n"
     ]
    },
    {
     "data": {
      "text/plain": [
       "<Figure size 500x300 with 0 Axes>"
      ]
     },
     "metadata": {},
     "output_type": "display_data"
    }
   ],
   "source": [
    "import matplotlib.pyplot as plt\n",
    "import numpy as np\n",
    "plt.style.use('seaborn-whitegrid')\n",
    "plt.figure(figsize=(5, 3))\n",
    "import math"
   ]
  },
  {
   "cell_type": "markdown",
   "metadata": {},
   "source": [
    "第一章作业上机实验"
   ]
  },
  {
   "cell_type": "code",
   "execution_count": 3,
   "metadata": {},
   "outputs": [
    {
     "name": "stdout",
     "output_type": "stream",
     "text": [
      "1000000000.0 1.0\n"
     ]
    }
   ],
   "source": [
    "alpha, beta = -1e9, -1\n",
    "a, b, c = 1, alpha + beta, 1e9\n",
    "\n",
    "x1, x2 = (-2 * c) / (b + (b ** 2 - 4 * a * c) ** 0.5) \\\n",
    "       , (-2 * c) / (b - (b ** 2 - 4 * a * c) ** 0.5)\n",
    "\n",
    "print(x1, x2)"
   ]
  },
  {
   "cell_type": "code",
   "execution_count": 4,
   "metadata": {},
   "outputs": [
    {
     "name": "stdout",
     "output_type": "stream",
     "text": [
      "209280132851277227501988209234026802122409700753408\n"
     ]
    }
   ],
   "source": [
    "def fpow(x: float, y: int) -> float:\n",
    "    res: float = 1\n",
    "    while y:\n",
    "        if y & 1:\n",
    "            res *= x\n",
    "        x *= x\n",
    "        y >>= 1\n",
    "    return res\n",
    "\n",
    "x, y = 42, 31\n",
    "print(fpow(x, y))"
   ]
  },
  {
   "cell_type": "markdown",
   "metadata": {},
   "source": [
    "第二章作业上机实验"
   ]
  },
  {
   "cell_type": "markdown",
   "metadata": {},
   "source": [
    "$x_{k + 1} = 15 - x_k^2, k = 0, 1, 2, \\cdots$，$x_0 = 2$"
   ]
  },
  {
   "cell_type": "code",
   "execution_count": 5,
   "metadata": {},
   "outputs": [],
   "source": [
    "lim = 100\n",
    "x = [2]\n",
    "for i in range(lim):\n",
    "    # x.append(15 - (x[-1] ** 2))\n",
    "    pass"
   ]
  },
  {
   "cell_type": "markdown",
   "metadata": {},
   "source": [
    "$x_{k + 1} = \\cfrac{15}{2x_k + 1}, k = 0, 1, 2, \\cdots$，$x_0 = 2$"
   ]
  },
  {
   "cell_type": "code",
   "execution_count": 6,
   "metadata": {},
   "outputs": [
    {
     "data": {
      "text/plain": [
       "[<matplotlib.lines.Line2D at 0x2227f7017b0>]"
      ]
     },
     "execution_count": 6,
     "metadata": {},
     "output_type": "execute_result"
    },
    {
     "data": {
      "image/png": "[encoded data removed]",
      "text/plain": [
       "<Figure size 500x300 with 1 Axes>"
      ]
     },
     "metadata": {},
     "output_type": "display_data"
    }
   ],
   "source": [
    "lim = 100\n",
    "x = [2]\n",
    "for i in range(lim):\n",
    "    x.append(15 / (2 * x[-1] + 1))\n",
    "\n",
    "plt.figure(figsize=(5, 3))\n",
    "plt.plot(x)"
   ]
  },
  {
   "cell_type": "markdown",
   "metadata": {},
   "source": [
    "$x_{k + 1} = x_k - \\cfrac{2x_k^2 + x_k - 15}{4x_k + 1}, k = 0, 1, 2, \\cdots$，$x_0 = 2$"
   ]
  },
  {
   "cell_type": "code",
   "execution_count": 7,
   "metadata": {},
   "outputs": [
    {
     "data": {
      "text/plain": [
       "[<matplotlib.lines.Line2D at 0x2227f7db190>]"
      ]
     },
     "execution_count": 7,
     "metadata": {},
     "output_type": "execute_result"
    },
    {
     "data": {
      "image/png": "[encoded data removed]",
      "text/plain": [
       "<Figure size 500x300 with 1 Axes>"
      ]
     },
     "metadata": {},
     "output_type": "display_data"
    }
   ],
   "source": [
    "lim = 100\n",
    "x = [2]\n",
    "for i in range(lim):\n",
    "    x.append(x[-1] - (2 * x[-1] ** 2 + x[-1] - 15) / (4 * x[-1] + 1))\n",
    "\n",
    "plt.figure(figsize=(5, 3))\n",
    "plt.plot(x)"
   ]
  },
  {
   "cell_type": "markdown",
   "metadata": {},
   "source": [
    "证明方程 $2 - 3x - \\sin x = 0$ 在 $(0, 1)$ 内有且仅有一个实根。使用二分法求误差不大于 $0.0005$ 的根，及需要的迭代次数。"
   ]
  },
  {
   "cell_type": "code",
   "execution_count": 8,
   "metadata": {},
   "outputs": [
    {
     "name": "stdout",
     "output_type": "stream",
     "text": [
      "0.50537109375 11 -0.0002454600314260591\n"
     ]
    }
   ],
   "source": [
    "def f(x: float) -> float:\n",
    "    return 2 - 3 * x - math.sin(x)\n",
    "\n",
    "TOL = 0.0005\n",
    "l, r = 0, 1\n",
    "cnt = 0\n",
    "while (r - l) > TOL:\n",
    "    cnt += 1\n",
    "    x = (l + r) / 2\n",
    "    if f(x) > 0:\n",
    "        l = x\n",
    "    else:\n",
    "        r = x\n",
    "\n",
    "print(x, cnt, f(x))"
   ]
  },
  {
   "cell_type": "markdown",
   "metadata": {},
   "source": [
    "利用牛顿法求解方程 $ \\cfrac 12 + \\cfrac 14 x^2 - x \\sin x - \\cfrac 12 \\cos 2x = 0$，分别取 $x_0 = \\cfrac \\pi 2, 5 \\pi, 10 \\pi$ 使得精度不小于 $10^{-5}$。比较初值对计算结果的影响。"
   ]
  },
  {
   "cell_type": "code",
   "execution_count": 9,
   "metadata": {},
   "outputs": [
    {
     "name": "stdout",
     "output_type": "stream",
     "text": [
      "x0 = 1.5707963267948966, res = 1.8954884189769137, cnt = 15\n",
      "x0 = 15.707963267948966, res = 1.8954890013731998, cnt = 19\n",
      "x0 = 31.41592653589793, res = 1.8955029706849522, cnt = 428\n"
     ]
    }
   ],
   "source": [
    "def f(x: float) -> float:\n",
    "    return 0.5 + 0.25 * x ** 2 - x * math.sin(x) - 0.5 * math.cos(2 * x)\n",
    "\n",
    "def df(x: float) -> float:\n",
    "    return 0.5 * x - math.sin(x) - x * math.cos(x) + math.sin(2 * x)\n",
    "\n",
    "def newton(x0: float) -> float:\n",
    "    TOL = 1e-5\n",
    "    cnt = 0\n",
    "    while True:\n",
    "        cnt += 1\n",
    "        x = x0 - f(x0) / df(x0)\n",
    "        if abs(x - x0) < TOL:\n",
    "            break\n",
    "        x0 = x\n",
    "    return x, cnt\n",
    "\n",
    "x0s = [math.pi / 2, 5 * math.pi, 10 * math.pi]\n",
    "for x0 in x0s:\n",
    "    res, cnt = newton(x0)\n",
    "    print(f'x0 = {x0}, res = {res}, cnt = {cnt}')"
   ]
  },
  {
   "cell_type": "markdown",
   "metadata": {},
   "source": [
    "已知 $f(x) = 5x - e^x$ 在 $(0, 1)$ 之间有一个实根，试分别利用二分法、牛顿法、割线法、错位法设计相关的计算格式，并编程求解。精确到四位小数。"
   ]
  },
  {
   "cell_type": "code",
   "execution_count": 10,
   "metadata": {},
   "outputs": [
    {
     "name": "stdout",
     "output_type": "stream",
     "text": [
      "bisection: res = 0.99993896484375, cnt = 14\n",
      "newton: res = 0.25917110166149104, cnt = 3\n",
      "secant: res = 0.2591712288816814, cnt = 4\n",
      "regula_falsi: res = 0.25917408510579704, cnt = 4\n"
     ]
    }
   ],
   "source": [
    "def f(x: float) -> float:\n",
    "    return 5 * x - math.exp(x)\n",
    "\n",
    "def df(x: float) -> float:\n",
    "    return 5 - math.exp(x)\n",
    "\n",
    "def bisection(l: float, r: float) -> float:\n",
    "    TOL = 1e-4\n",
    "    cnt = 0\n",
    "    while (r - l) > TOL:\n",
    "        cnt += 1\n",
    "        x = (l + r) / 2\n",
    "        if f(x) > 0:\n",
    "            l = x\n",
    "        else:\n",
    "            r = x\n",
    "    return x, cnt\n",
    "\n",
    "def newton(x0: float) -> float:\n",
    "    TOL = 1e-4\n",
    "    cnt = 0\n",
    "    while True:\n",
    "        cnt += 1\n",
    "        x = x0 - f(x0) / df(x0)\n",
    "        if abs(x - x0) < TOL:\n",
    "            break\n",
    "        x0 = x\n",
    "    return x, cnt\n",
    "\n",
    "def secant(x0: float, x1: float) -> float:\n",
    "    TOL = 1e-4\n",
    "    cnt = 0\n",
    "    while True:\n",
    "        cnt += 1\n",
    "        x = x1 - f(x1) * (x1 - x0) / (f(x1) - f(x0))\n",
    "        if abs(x - x1) < TOL:\n",
    "            break\n",
    "        x0, x1 = x1, x\n",
    "    return x, cnt\n",
    "\n",
    "def regula_falsi(x0: float, x1: float) -> float:\n",
    "    TOL = 1e-4\n",
    "    cnt = 0\n",
    "    while True:\n",
    "        cnt += 1\n",
    "        x = x1 - f(x1) * (x1 - x0) / (f(x1) - f(x0))\n",
    "        if abs(x - x1) < TOL:\n",
    "            break\n",
    "        if f(x) * f(x1) < 0:\n",
    "            x0 = x\n",
    "        else:\n",
    "            x1 = x\n",
    "    return x, cnt\n",
    "\n",
    "l, r = 0, 1\n",
    "res, cnt = bisection(l, r)\n",
    "print(f'bisection: res = {res}, cnt = {cnt}')\n",
    "\n",
    "x0 = 0.5\n",
    "res, cnt = newton(x0)\n",
    "print(f'newton: res = {res}, cnt = {cnt}')\n",
    "\n",
    "x0, x1 = 0, 1\n",
    "res, cnt = secant(x0, x1)\n",
    "print(f'secant: res = {res}, cnt = {cnt}')\n",
    "\n",
    "x0, x1 = 0, 1\n",
    "res, cnt = regula_falsi(x0, x1)\n",
    "print(f'regula_falsi: res = {res}, cnt = {cnt}')"
   ]
  },
  {
   "cell_type": "markdown",
   "metadata": {},
   "source": [
    "第三章作业上机实验\n",
    "\n",
    "以 $y = \\sin(x)$ 为例，在 $[0,π]$ 区间内生成 $11$ 个、$21$ 个数据点，设计算法或程序，用上述 $4$ 个边界条件，分别计算其样条插值，并作图比较，分析其差异性。"
   ]
  },
  {
   "cell_type": "code",
   "execution_count": 20,
   "metadata": {},
   "outputs": [
    {
     "data": {
      "text/plain": [
       "[<matplotlib.lines.Line2D at 0x2227fba9960>]"
      ]
     },
     "execution_count": 20,
     "metadata": {},
     "output_type": "execute_result"
    },
    {
     "data": {
      "image/png": "[encoded data removed]",
      "text/plain": [
       "<Figure size 640x480 with 1 Axes>"
      ]
     },
     "metadata": {},
     "output_type": "display_data"
    }
   ],
   "source": [
    "'''\n",
    "以 $y = \\sin(x)$ 为例，在 $[0,π]$ 区间内生成 $11$ 个、$21$ 个数据点，设计算法或程序，用上述 $4$ 个边界条件，分别计算其样条插值，并作图比较，分析其差异性。\n",
    "\n",
    "自然边界、固定边界、周期边界、强制第一个子区间和第二个子区间样条多项式的三阶导数相同，倒数第二个子区间和最后一个子区间的三次样条函数的三阶导数相等\n",
    "'''\n",
    "\n",
    "def f(x: float) -> float:\n",
    "    return math.sin(x)\n",
    "\n",
    "X = np.linspace(0, math.pi, 11)\n",
    "Y = [f(x) for x in X]\n",
    "\n",
    "# 自然边界\n",
    "def natural_cubic_spline(X: np.ndarray, Y: np.ndarray) -> np.ndarray:\n",
    "    n = len(X) - 1\n",
    "    h = X[1] - X[0]\n",
    "    A = np.zeros((n + 1, n + 1))\n",
    "    for i in range(1, n):\n",
    "        A[i][i - 1] = h\n",
    "        A[i][i] = 2 * (X[i + 1] - X[i - 1])\n",
    "        A[i][i + 1] = h\n",
    "    A[0][0] = 1\n",
    "    A[n][n] = 1\n",
    "    B = np.zeros(n + 1)\n",
    "    for i in range(1, n):\n",
    "        B[i] = 3 * (Y[i + 1] - Y[i]) / (X[i + 1] - X[i]) - 3 * (Y[i] - Y[i - 1]) / (X[i] - X[i - 1])\n",
    "    C = np.linalg.solve(A, B)\n",
    "    D = np.zeros(n)\n",
    "    for i in range(n):\n",
    "        D[i] = (C[i + 1] - C[i]) / (3 * (X[i + 1] - X[i]))\n",
    "    B = np.zeros(n)\n",
    "    for i in range(n):\n",
    "        B[i] = (Y[i + 1] - Y[i]) / (X[i + 1] - X[i]) - (X[i + 1] - X[i]) * (2 * C[i] + C[i + 1]) / 3\n",
    "    return C, B, D\n",
    "\n",
    "C, B, D = natural_cubic_spline(X, Y)\n",
    "\n",
    "# 画自然边界的图像\n",
    "x = np.linspace(0, math.pi, 100)\n",
    "y = np.zeros_like(x)\n",
    "for i in range(len(X) - 1):\n",
    "    idx = (x >= X[i]) & (x <= X[i + 1])\n",
    "    y[idx] = Y[i] + B[i] * (x[idx] - X[i]) + C[i] * (x[idx] - X[i]) ** 2 + D[i] * (x[idx] - X[i]) ** 3\n",
    "plt.plot(x, y, label='natural')"
   ]
  }
 ],
 "metadata": {
  "kernelspec": {
   "display_name": "Python 3",
   "language": "python",
   "name": "python3"
  },
  "language_info": {
   "codemirror_mode": {
    "name": "ipython",
    "version": 3
   },
   "file_extension": ".py",
   "mimetype": "text/x-python",
   "name": "python",
   "nbconvert_exporter": "python",
   "pygments_lexer": "ipython3",
   "version": "3.10.5"
  }
 },
 "nbformat": 4,
 "nbformat_minor": 2
}
